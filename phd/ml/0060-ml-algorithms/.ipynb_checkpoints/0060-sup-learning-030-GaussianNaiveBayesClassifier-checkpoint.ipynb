{
 "cells": [
  {
   "cell_type": "markdown",
   "metadata": {},
   "source": [
    "https://www.youtube.com/watch?v=XcwH9JGfZOU&t=3s\n",
    "\n",
    "\n",
    "<img src=\"../../../Screenshots/Screenshot 2017-09-28 20.15.42.png\" width=\"400px\" />\n",
    "\n",
    "## Naive Bayes for categorical values\n",
    "\n",
    "\n",
    "<img src=\"../../../Screenshots/Screenshot 2017-09-28 20.17.56.png\" width=\"400px\" />\n"
   ]
  },
  {
   "cell_type": "code",
   "execution_count": 5,
   "metadata": {},
   "outputs": [
    {
     "name": "stdout",
     "output_type": "stream",
     "text": [
      "[['overcast' 'rainy' 'sunny']\n",
      " ['4' '5' '5']]\n"
     ]
    }
   ],
   "source": [
    "# prepare frequency table\n",
    "\n",
    "import csv\n",
    "import pandas as pd\n",
    "import numpy as np\n",
    "from sklearn.model_selection import train_test_split\n",
    "from numpy import linalg \n",
    "import scipy.stats as stats\n",
    "\n",
    "data = {\n",
    "    \"outlook\":[\"rainy\",\"rainy\",\"overcast\",\"sunny\",\"sunny\",\"sunny\",\"overcast\",\"rainy\",\"rainy\",\"sunny\",\"rainy\",\"overcast\",\"overcast\",\"sunny\"],\n",
    "    \"temp\":[\"hot\",\"hot\",\"hot\",\"mild\",\"cool\",\"cool\",\"cool\",\"mild\",\"cool\",\"mild\",\"mild\",\"mild\",\"hot\",\"mild\"],\n",
    "    \"humidity\":[\"hight\",\"hight\",\"hight\",\"hight\",\"normal\",\"normal\",\"normal\",\"hight\",\"normal\",\"normal\",\"normal\",\"hight\",\"normal\", \"high\"],\n",
    "    \"windy\":[\"false\",\"true\",\"false\",\"false\",\"false\",\"true\",\"true\",\"false\",\"false\",\"false\",\"true\",\"true\",\"false\",\"true\"],\n",
    "    \"playgolf\":[\"no\",\"no\",\"yes\",\"yes\",\"yes\",\"no\",\"yes\",\"no\",\"yes\",\"yes\",\"yes\",\"yes\",\"yes\",\"no\"]\n",
    "       }\n",
    "outlook_freq = stats.itemfreq(data[\"outlook\"])\n",
    "print(outlook_freq)"
   ]
  },
  {
   "cell_type": "markdown",
   "metadata": {},
   "source": [
    "<img src=\"../../../Screenshots/Screenshot 2017-09-28 21.35.46.png\" width=\"600px\" />\n"
   ]
  },
  {
   "cell_type": "code",
   "execution_count": 17,
   "metadata": {},
   "outputs": [
    {
     "name": "stdout",
     "output_type": "stream",
     "text": [
      "[ 0.28571429  0.35714286  0.35714286]\n",
      "0.2857142857142857 0.35714285714285715\n"
     ]
    }
   ],
   "source": [
    "#column probabilty function, for outlook\n",
    "\n",
    "\n",
    "def columnFreq(colname):\n",
    "    freqPairs = stats.itemfreq(data[colname]).T # numbers are in the second row\n",
    "    freqs = freqPairs[1].astype(np.float)\n",
    "    return freqs\n",
    "\n",
    "\n",
    "def columnProb(colname):\n",
    "    freqs = columnFreq(colname)\n",
    "    sum = np.sum(freqs)\n",
    "    return freqs * (1.0/sum)\n",
    "\n",
    "\n",
    "sum = columnProb(\"outlook\")\n",
    "print(sum)\n",
    "print (4/14,5/14)\n"
   ]
  },
  {
   "cell_type": "markdown",
   "metadata": {},
   "source": [
    "<img src=\"../../../Screenshots/Screenshot 2017-09-28 20.17.56.png\" width=\"400px\" />\n"
   ]
  },
  {
   "cell_type": "code",
   "execution_count": 56,
   "metadata": {},
   "outputs": [
    {
     "name": "stdout",
     "output_type": "stream",
     "text": [
      "0.6\n"
     ]
    }
   ],
   "source": [
    "# estimate P(yes|Sunny) = P(Sunny|Yes) x P(Yes) / P(Sunny)\n",
    "#  = P ( ' sunny in outlook' | 'yes in playgolf') x P ( yes in playgolf') / p(\"sunny in outlook \")\n",
    "\n",
    "def P_item_in_column(item_in_column, colname, data):\n",
    "    itemfreqs = stats.itemfreq(data[colname])\n",
    "    colsum = np.sum(itemfreqs.T[1].astype(np.float))\n",
    "    item_in_column_rows = itemfreqs[itemfreqs[:,0] == item_in_column]\n",
    "    itemfreq_in_column = float(item_in_column_rows[0][1])\n",
    "\n",
    "    return itemfreq_in_column / colsum\n",
    "\n",
    "def P_conditional(item_in_column, colname, given_item_in_column, given_column, data):\n",
    "    #reduce data according to the given_item_in_column in given_column\n",
    "    X = np.array(data[given_column])\n",
    "    b  = np.where(X==given_item_in_column)\n",
    "    reducedData = np.take(np.array(data[colname]), b)[0]\n",
    "    return P_item_in_column(item_in_column, colname, {colname:reducedData})\n",
    "\n",
    "    \n",
    "\n",
    "p_sunny_in_outlook = P_item_in_column(\"sunny\", \"outlook\",data)\n",
    "p_yes_in_playgolf = P_item_in_column(\"yes\", \"playgolf\",data)\n",
    "p_sunny_given_yes = P_conditional(\"sunny\", \"outlook\", \"yes\", \"playgolf\",data)\n",
    "\n",
    "p = p_sunny_given_yes * p_yes_in_playgolf / p_sunny_in_outlook\n",
    "print (p)"
   ]
  },
  {
   "cell_type": "code",
   "execution_count": null,
   "metadata": {},
   "outputs": [],
   "source": [
    "import csv\n",
    "import pandas as pd\n",
    "import numpy as np\n",
    "from sklearn.model_selection import train_test_split\n",
    "from numpy import linalg \n",
    "\n",
    "data = {\n",
    "    \"outlook\":[\"rainy\",\"rainy\",\"overcast\",\"sunny\",\"sunny\",\"sunny\",\"overcast\",\"rainy\",\"rainy\",\"sunny\",\"rainy\",\"overcast\",\"overcast\",\"sunny\"],\n",
    "    \"temp\":[\"hot\",\"hot\",\"hot\",\"mild\",\"cool\",\"cool\",\"cool\",\"mild\",\"cool\",\"mild\",\"mild\",\"mild\",\"hot\",\"mild\"],\n",
    "    \"humidity\":[\"hight\",\"hight\",\"hight\",\"hight\",\"normal\",\"normal\",\"normal\",,\"hight\",\"normal\",\"normal\",\"normal\",\"hight\",\"normal\", \"high\"],\n",
    "    \"windy\":[\"false\",\"true\",\"false\",\"false\",\"false\",\"true\",\"true\",\"false\",\"false\",\"false\",\"true\",\"true\",\"false\",\"true\"],\n",
    "    \"playgolf\":[\"no\",\"no\",\"yes\",\"yes\",\"yes\",\"no\",\"yes\",\"no\",\"yes\",\"yes\",\"yes\",\"yes\",\"yes\",\"no\"]\n",
    "       }\n",
    "\n",
    "class CategoricalNaiveBayesClassifier(object):\n",
    "    pass\n",
    "\n",
    "    def __init__(self, X, y, test_size=0.33):\n",
    "        pass\n",
    "        self.X_train, self.X_test, self.y_train, self.y_test = train_test_split(X, y, test_size=test_size, random_state=42)\n",
    "    \n",
    "    def fit(self):\n",
    "        pass\n",
    "    \n",
    "    def predict(self):\n",
    "        pass\n",
    "    \n",
    "    def test(self):\n",
    "        print(\"running gaussian naive bayes classifier.\")\n",
    "        self.fit()\n",
    "        self.predict()\n",
    "\n",
    "GaussianNaiveBayesClassifier(X,y).test()"
   ]
  },
  {
   "cell_type": "markdown",
   "metadata": {},
   "source": [
    "<img src=\"../../../Screenshots/Screenshot 2017-09-28 23.27.23.png\" width=\"400px\" />\n"
   ]
  },
  {
   "cell_type": "code",
   "execution_count": 59,
   "metadata": {},
   "outputs": [
    {
     "name": "stdout",
     "output_type": "stream",
     "text": [
      "0.0359804551023\n",
      "0.0171623658627\n"
     ]
    }
   ],
   "source": [
    "from scipy.stats import norm\n",
    "\n",
    "playgolf_data = {\n",
    "            \"yes\":[86,96,80,65,70,80,70,90,75],\n",
    "            \"no\":[85,90,70,95,91]\n",
    "                }\n",
    "\n",
    "yesMu = np.mean(playgolf_data[\"yes\"])\n",
    "yesStd = np.std(playgolf_data[\"yes\"])\n",
    "\n",
    "print(norm.pdf(74,yesMu, yesStd ))\n",
    "\n",
    "noMu = np.mean(playgolf_data[\"no\"])\n",
    "noStd = np.std(playgolf_data[\"no\"])\n",
    "\n",
    "print(norm.pdf(74,noMu, noStd ))\n"
   ]
  },
  {
   "cell_type": "code",
   "execution_count": 78,
   "metadata": {},
   "outputs": [
    {
     "name": "stdout",
     "output_type": "stream",
     "text": [
      "running gaussian naive bayes classifier.\n",
      "prediction percent: 0.98\n"
     ]
    }
   ],
   "source": [
    "import csv\n",
    "import pandas as pd\n",
    "import numpy as np\n",
    "from sklearn.model_selection import train_test_split\n",
    "from numpy import linalg \n",
    "from scipy.stats import norm\n",
    "\n",
    "csvFile = \"./data/iris.data.csv\"\n",
    "csvReader = csv.DictReader(open(csvFile))\n",
    "df = pd.read_csv(csvFile)\n",
    "vars=['petal_len','petal_w','sepal_len','sepal_w','t_set_ver_vir']\n",
    "\n",
    "\n",
    "var1 = vars[0]\n",
    "var2 = vars[1]\n",
    "var3 = vars[4]\n",
    "\n",
    "\n",
    "x1 = np.asfarray(df[var1].values, dtype='float')\n",
    "x2 = np.asfarray(df[var2].values, dtype='float')\n",
    "X = np.array([x1,x2]).T\n",
    "y = np.asfarray(df[var3].values, dtype='float')\n",
    "\n",
    "class GaussianNaiveBayesClassifier(object):\n",
    "    pass\n",
    "\n",
    "    def __init__(self, X, y, test_size=0.33):\n",
    "        pass\n",
    "        self.X_train, self.X_test, self.y_train, self.y_test = train_test_split(X, y, test_size=test_size, random_state=42)\n",
    "    \n",
    "    def estimateLikelihoodOfColumns(self):\n",
    "        self.x_given_theta=[]; #likelihood array per filtered class\n",
    "\n",
    "        self.classes = np.unique(self.y_train).astype(np.int)\n",
    "        # calculate the probability distribution (pdf) function of each column\n",
    "        # p(x|theta) = pdf(x_i) will be the likelihood of x_i in the equation p(x|Y) = likelihood X prior\n",
    "        # theta is the gaussian normal distribution parameters, we assume than likelihood is gaussian based\n",
    "        \n",
    "        for i, c in enumerate(self.classes):\n",
    "            #this will be the likelihood\n",
    "            x_given_Y = self.X_train[np.where(self.y_train == c)]\n",
    "            # store each column's pdf that are filtered by class=c_i\n",
    "            #there are class_count x column_count pdfs\n",
    "            # array's shape is (class_count, column_count)\n",
    "            columnPDFsForColumn = []\n",
    "            for columnIdx in range(np.shape(x_given_Y)[1]):\n",
    "                column = x_given_Y[:,columnIdx]\n",
    "                columnPDFsForColumn.append({\"mean\":np.mean(column),\"std\":np.std(column)})\n",
    "            self.x_given_theta.append(columnPDFsForColumn)\n",
    "    \n",
    "    \n",
    "    def fit(self):\n",
    "        self.estimateLikelihoodOfColumns()\n",
    "    \n",
    "    def prior (self,class_):\n",
    "        classCount = len(np.where(self.y_train == class_)[0])\n",
    "        wholeCount = len(self.y_train)\n",
    "        return classCount/wholeCount\n",
    "    \n",
    "    def classify(self, xtest):\n",
    "        \n",
    "        def calculatePosteriorOfRow(xrow, yclass_):\n",
    "            posterior= priorOfClass = self.prior(yclass_)\n",
    "            for i,columnValue_ in enumerate(xrow):\n",
    "                likelihoodParam = self.x_given_theta[yclass_-1][i] #likelihood param, classes are 1 based, subtract 1 to avoid overflow\n",
    "                likelihoodOfColumnValue = norm.pdf(columnValue_,likelihoodParam[\"mean\"], likelihoodParam[\"std\"])\n",
    "                posterior *=likelihoodOfColumnValue\n",
    "            return posterior\n",
    "        posteriors=[]\n",
    "        for yclass_ in self.classes:\n",
    "            posteriors.append(calculatePosteriorOfRow(xtest, yclass_))\n",
    "        return np.argmax(posteriors)+1  #argmax is zero based but class indices are 1 based.\n",
    "    \n",
    "    def predict(self):\n",
    "        return np.array([self.classify(x) for i,x in enumerate(self.X_test)])\n",
    "        \n",
    "    def validate(self):\n",
    "        predictions = self.predict()\n",
    "        checks = np.array([predictions[i]==self.y_test[i] for i in range(len(self.y_test))])\n",
    "        trues = len(np.where(checks==True)[0]) #number of true predictions\n",
    "        return (trues/len(checks)) #true <-> false loss function\n",
    "    \n",
    "    def test(self):\n",
    "        print(\"running gaussian naive bayes classifier.\")\n",
    "        self.fit()\n",
    "        print (\"prediction percent:\",self.validate())\n",
    "        \n",
    "GaussianNaiveBayesClassifier(X,y).test()"
   ]
  }
 ],
 "metadata": {
  "kernelspec": {
   "display_name": "Python 3",
   "language": "python",
   "name": "python3"
  },
  "language_info": {
   "codemirror_mode": {
    "name": "ipython",
    "version": 3
   },
   "file_extension": ".py",
   "mimetype": "text/x-python",
   "name": "python",
   "nbconvert_exporter": "python",
   "pygments_lexer": "ipython3",
   "version": "3.6.1"
  }
 },
 "nbformat": 4,
 "nbformat_minor": 2
}
