{
 "cells": [
  {
   "cell_type": "markdown",
   "metadata": {},
   "source": [
    "https://www.youtube.com/watch?v=XcwH9JGfZOU&t=3s\n"
   ]
  },
  {
   "cell_type": "code",
   "execution_count": 4,
   "metadata": {},
   "outputs": [
    {
     "name": "stdout",
     "output_type": "stream",
     "text": [
      "running gaussian naive bayes classifier.\n"
     ]
    }
   ],
   "source": [
    "import csv\n",
    "import pandas as pd\n",
    "import numpy as np\n",
    "from sklearn.model_selection import train_test_split\n",
    "from numpy import linalg \n",
    "\n",
    "csvFile = \"./data/iris.data.csv\"\n",
    "csvReader = csv.DictReader(open(csvFile))\n",
    "df = pd.read_csv(csvFile)\n",
    "vars=['petal_len','petal_w','sepal_len','sepal_w','t_set_ver_vir']\n",
    "\n",
    "\n",
    "var1 = vars[0]\n",
    "var2 = vars[1]\n",
    "var3 = vars[2]\n",
    "\n",
    "\n",
    "x1 = np.asfarray(df[var1].values, dtype='float')\n",
    "x2 = np.asfarray(df[var2].values, dtype='float')\n",
    "X = np.array([x1,x2]).T\n",
    "y = np.asfarray(df[var3].values, dtype='float')\n",
    "\n",
    "class GaussianNaiveBayesClassifier(object):\n",
    "    pass\n",
    "\n",
    "    def __init__(self, X, y, test_size=0.33):\n",
    "        pass\n",
    "        self.X_train, self.X_test, self.y_train, self.y_test = train_test_split(X, y, test_size=test_size, random_state=42)\n",
    "    \n",
    "    def fit(self):\n",
    "        pass\n",
    "    \n",
    "    def predict(self):\n",
    "        pass\n",
    "    \n",
    "    def test(self):\n",
    "        print(\"running gaussian naive bayes classifier.\")\n",
    "        self.fit()\n",
    "        self.predict()\n",
    "\n",
    "GaussianNaiveBayesClassifier(X,y).test()\n",
    "\n"
   ]
  }
 ],
 "metadata": {
  "kernelspec": {
   "display_name": "Python 3",
   "language": "python",
   "name": "python3"
  },
  "language_info": {
   "codemirror_mode": {
    "name": "ipython",
    "version": 3
   },
   "file_extension": ".py",
   "mimetype": "text/x-python",
   "name": "python",
   "nbconvert_exporter": "python",
   "pygments_lexer": "ipython3",
   "version": "3.6.1"
  }
 },
 "nbformat": 4,
 "nbformat_minor": 2
}
