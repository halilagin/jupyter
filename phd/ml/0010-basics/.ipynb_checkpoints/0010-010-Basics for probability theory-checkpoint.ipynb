{
 "cells": [
  {
   "cell_type": "markdown",
   "metadata": {},
   "source": [
    "# Basics\n",
    "\n",
    "This section explains preliminaries about probability theory.\n",
    "\n",
    "The source of this document is the youtube channel whose address is listed below.\n",
    "\n",
    "https://www.youtube.com/channel/UCoXVQ0xV2VOk3XrREv5061w/videos\n"
   ]
  },
  {
   "cell_type": "markdown",
   "metadata": {},
   "source": [
    "\n",
    "The question \n",
    "\n",
    "\n",
    "<img src=\"../../../Screenshots/Screenshot%202017-09-18%2015.49.38.png\" style=\"width:400px;\" alt=\"Figure 1-1\">"
   ]
  },
  {
   "cell_type": "code",
   "execution_count": 48,
   "metadata": {},
   "outputs": [
    {
     "name": "stdout",
     "output_type": "stream",
     "text": [
      "ex1result: 65536\n"
     ]
    },
    {
     "data": {
      "text/plain": [
       "'ex2result:52*51*50*49*48*47*46*45*44*43*42*41*40*39*38*37*36*35*34*33*32*31*30*29*28*27*26*25*24*23*22*21*20*19*18*17*16*15*14*13*12*11*10*9*8*7*6*5*4*3*2*1'"
      ]
     },
     "execution_count": 48,
     "metadata": {},
     "output_type": "execute_result"
    }
   ],
   "source": [
    "import numpy as np\n",
    "import scipy,  math\n",
    "\n",
    "ex1result = 2**16\n",
    "print (\"ex1result:\",ex1result)\n",
    "ex2result  = None # dont calculate the second question because it is 52!, 10^68, very big number.\n",
    "\n",
    "cardNo=52\n",
    "calc=\"\"\n",
    "for fac in reversed(range(cardNo)):\n",
    "    calc += \"*\"+str(fac+1) \n",
    "\n",
    "ex2result = calc[1:] # substring\n",
    "\"ex2result:\" + ex2result"
   ]
  },
  {
   "cell_type": "markdown",
   "metadata": {},
   "source": [
    "<img src=\"../../../Screenshots/Screenshot 2017-09-18 16.21.03.png\" style=\"width:400px;\" alt=\"Figure 1-1\">"
   ]
  },
  {
   "cell_type": "code",
   "execution_count": 49,
   "metadata": {},
   "outputs": [
    {
     "name": "stdout",
     "output_type": "stream",
     "text": [
      "ex3result: 720\n"
     ]
    }
   ],
   "source": [
    "ex3result = math.factorial(6)\n",
    "print (\"ex3result:\", ex3result)"
   ]
  },
  {
   "cell_type": "code",
   "execution_count": 50,
   "metadata": {},
   "outputs": [
    {
     "name": "stdout",
     "output_type": "stream",
     "text": [
      "ex4result: 72\n",
      "probability of alternating man and woman in the lining up of 6 people (3 m, 3w.): 0.1\n"
     ]
    }
   ],
   "source": [
    "#ex4question: means 3 women and 3 men\n",
    "\n",
    "ex4result = 6*3*2*2*1*1  # in first case choose any of 6, then choose according to the buckets sized 3 and 2 (1 is missing because we use in th first place.)\n",
    "\n",
    "print (\"ex4result:\", ex4result)\n",
    "\n",
    "ex4probabilityResult = ex4result/ex3result\n",
    "\n",
    "print (\"probability of alternating man and woman in the lining up of 6 people (3 m, 3w.):\", ex4probabilityResult)\n"
   ]
  },
  {
   "cell_type": "markdown",
   "metadata": {},
   "source": [
    "<img src=\"../../../Screenshots/Screenshot 2017-09-18 18.49.48.png\" style=\"width:400px;\" alt=\"Figure 1-1\"/>"
   ]
  },
  {
   "cell_type": "code",
   "execution_count": 51,
   "metadata": {},
   "outputs": [
    {
     "name": "stdout",
     "output_type": "stream",
     "text": [
      "ex5result: 1440\n",
      "ex6result: 3600\n"
     ]
    }
   ],
   "source": [
    "ex5result = math.factorial(6) * math.factorial(2)\n",
    "print (\"ex5result:\", ex5result)\n",
    "\n",
    "ex6result =  math.factorial(7) - ex5result  \n",
    "print (\"ex6result:\", ex6result)"
   ]
  },
  {
   "cell_type": "markdown",
   "metadata": {},
   "source": [
    "<img src=\"../../../Screenshots/Screenshot 2017-09-18 18.53.26.png\" style=\"width:400px;\" alt=\"Figure 1-1\"/>\n"
   ]
  },
  {
   "cell_type": "code",
   "execution_count": 52,
   "metadata": {},
   "outputs": [
    {
     "name": "stdout",
     "output_type": "stream",
     "text": [
      "p_ex1result: 5040.0\n",
      "p_ex1result_a: 15600.0\n",
      "p_ex1result_b: 17576\n"
     ]
    }
   ],
   "source": [
    "from scipy.special import comb\n",
    "from scipy.special import perm\n",
    "\n",
    "p_ex1result = perm(10,4)\n",
    "print (\"p_ex1result:\", p_ex1result)\n",
    "\n",
    "p_ex1result_a = perm(26,3)\n",
    "print (\"p_ex1result_a:\", p_ex1result_a)\n",
    "\n",
    "\n",
    "p_ex1result_b = 26**3\n",
    "print (\"p_ex1result_b:\", p_ex1result_b)"
   ]
  },
  {
   "cell_type": "markdown",
   "metadata": {},
   "source": [
    "# Circular permutation example 1\n",
    "\n",
    "\n",
    "<img src=\"../../../Screenshots/Screenshot 2017-09-18 19.06.38.png\" style=\"width:400px;\" alt=\"Figure 1-1\"/>\n",
    "\n"
   ]
  },
  {
   "cell_type": "code",
   "execution_count": 53,
   "metadata": {},
   "outputs": [
    {
     "name": "stdout",
     "output_type": "stream",
     "text": [
      "cp_ex1result: 6\n",
      "cp_ex1b_result: 24\n",
      "cp_ex1c_result: 3.0\n"
     ]
    }
   ],
   "source": [
    "n=4\n",
    "\n",
    "cp_ex1result = math.factorial(n-1);\n",
    "print (\"cp_ex1result:\",cp_ex1result)\n",
    "\n",
    "cp_ex1a_result=\"it is not a new circular permutation\"\n",
    "cp_ex1b_result= math.factorial(n) # \" it breaks the circular permutation, think it as linear.\"\n",
    "print (\"cp_ex1b_result:\",cp_ex1b_result)\n",
    "\n",
    "cp_ex1c_result= math.factorial(n-1)/2 \n",
    "# divided by 2 because reverse permutation is not allowed, means remove the reverse.\n",
    "# building a circuit means it is a circular permutation\n",
    "print (\"cp_ex1c_result:\",cp_ex1c_result)\n",
    "\n",
    "\n",
    "\n",
    "\n"
   ]
  },
  {
   "cell_type": "markdown",
   "metadata": {},
   "source": [
    "<img src=\"../../../Screenshots/Screenshot 2017-09-18 23.49.45.png\" style=\"width:400px;\" alt=\"Figure 1-1\"/>\n",
    "\n"
   ]
  },
  {
   "cell_type": "code",
   "execution_count": 54,
   "metadata": {},
   "outputs": [
    {
     "name": "stdout",
     "output_type": "stream",
     "text": [
      "npe_ex1result: 40320\n",
      "npe_ex2result: 1814400.0\n",
      "npe_ex3result: 50400.0\n",
      "npe_ex4result: 10.0\n"
     ]
    }
   ],
   "source": [
    "n=len(\"firendly\")\n",
    "npe_ex1result = math.factorial(n)\n",
    "print (\"npe_ex1result:\",npe_ex1result)\n",
    "\n",
    "n=len(\"unfirendly\")\n",
    "npe_ex2result = math.factorial(n)/math.factorial(2) # divided by 2 because there are 2 'n' and arranging between 'n's has no effect.\n",
    "print (\"npe_ex2result:\",npe_ex2result)\n",
    "\n",
    "\n",
    "n=len(\"statistics\")\n",
    "#3t, 3s, 2i, 1a, 1c\n",
    "npe_ex3result = math.factorial(n)/math.factorial(3)/math.factorial(3)/math.factorial(2) \n",
    "print (\"npe_ex3result:\",npe_ex3result)\n",
    "\n",
    "#1 twin and 1 triplet = n=2+3\n",
    "n=2+3\n",
    "npe_ex4result = math.factorial(n)/math.factorial(2)/math.factorial(3)\n",
    "print (\"npe_ex4result:\",npe_ex4result)\n"
   ]
  },
  {
   "cell_type": "markdown",
   "metadata": {},
   "source": [
    "<img src=\"../../../Screenshots/Screenshot 2017-09-18 23.59.24.png\" style=\"width:400px;\" alt=\"Figure 1-1\"/>"
   ]
  },
  {
   "cell_type": "code",
   "execution_count": 55,
   "metadata": {},
   "outputs": [
    {
     "name": "stdout",
     "output_type": "stream",
     "text": [
      "com_ex1result: 210.0\n",
      "com_ex2result: 2598960.0\n",
      "com_ex3result: 4368.0\n"
     ]
    }
   ],
   "source": [
    "com_ex1result= comb(10,4)\n",
    "print (\"com_ex1result:\",com_ex1result)\n",
    "\n",
    "com_ex2result= comb(52,5)\n",
    "print (\"com_ex2result:\",com_ex2result)\n",
    "\n",
    "com_ex3result= comb(16,5)\n",
    "print (\"com_ex3result:\",com_ex3result)\n"
   ]
  },
  {
   "cell_type": "markdown",
   "metadata": {},
   "source": [
    "# Venn diagram example\n"
   ]
  },
  {
   "cell_type": "code",
   "execution_count": 56,
   "metadata": {},
   "outputs": [
    {
     "name": "stderr",
     "output_type": "stream",
     "text": [
      "/Library/Frameworks/Python.framework/Versions/3.6/lib/python3.6/site-packages/matplotlib/figure.py:402: UserWarning: matplotlib is currently using a non-GUI backend, so cannot show the figure\n",
      "  \"matplotlib is currently using a non-GUI backend, \"\n"
     ]
    },
    {
     "data": {
      "image/png": "[encoded data removed]",
      "text/plain": [
       "<matplotlib.figure.Figure at 0x10a1ac518>"
      ]
     },
     "metadata": {},
     "output_type": "display_data"
    }
   ],
   "source": [
    "%matplotlib inline\n",
    "from matplotlib_venn import venn2\n",
    "from matplotlib import pyplot as plt\n",
    "\n",
    "plt = plt.figure(figsize=(1,1))\n",
    "venn2(subsets = (3, 2, 1))\n",
    "plt.show()\n"
   ]
  },
  {
   "cell_type": "code",
   "execution_count": 57,
   "metadata": {},
   "outputs": [
    {
     "data": {
      "text/plain": [
       "<matplotlib_venn._common.VennDiagram at 0x106b4aa90>"
      ]
     },
     "execution_count": 57,
     "metadata": {},
     "output_type": "execute_result"
    },
    {
     "data": {
      "image/png": "[encoded data removed]",
      "text/plain": [
       "<matplotlib.figure.Figure at 0x109ea9630>"
      ]
     },
     "metadata": {},
     "output_type": "display_data"
    }
   ],
   "source": [
    "venn2([set(['A', 'B', 'C', 'D']), set(['D', 'E', 'F'])])"
   ]
  },
  {
   "cell_type": "code",
   "execution_count": 58,
   "metadata": {},
   "outputs": [
    {
     "data": {
      "text/plain": [
       "<matplotlib_venn._common.VennDiagram at 0x10a1a1940>"
      ]
     },
     "execution_count": 58,
     "metadata": {},
     "output_type": "execute_result"
    },
    {
     "data": {
      "image/png": "[encoded data removed]",
      "text/plain": [
       "<matplotlib.figure.Figure at 0x10a14c4e0>"
      ]
     },
     "metadata": {},
     "output_type": "display_data"
    }
   ],
   "source": [
    "from matplotlib_venn import venn3\n",
    "\n",
    "venn3(subsets = (1, 1, 1, 2, 1, 2, 2), set_labels = ('Set1', 'Set2', 'Set3'))"
   ]
  },
  {
   "cell_type": "code",
   "execution_count": 59,
   "metadata": {},
   "outputs": [
    {
     "data": {
      "image/png": "[encoded data removed]",
      "text/plain": [
       "<matplotlib.figure.Figure at 0x109aae898>"
      ]
     },
     "metadata": {},
     "output_type": "display_data"
    }
   ],
   "source": [
    "v = venn3([set(['A', 'B', 'C', 'D']), set(['D', 'E', 'F']), set(['A','Z']) ])\n",
    "#v.get_patch_by_id('10').set_color('none')\n"
   ]
  },
  {
   "cell_type": "code",
   "execution_count": 60,
   "metadata": {},
   "outputs": [
    {
     "data": {
      "image/png": "[encoded data removed]",
      "text/plain": [
       "<matplotlib.figure.Figure at 0x109ab2d68>"
      ]
     },
     "metadata": {},
     "output_type": "display_data"
    }
   ],
   "source": [
    "v = venn3(subsets=[set(['A', 'B', 'C', 'D']), set(['D', 'E', 'F']), set(['A','Z']) ], set_labels=(\"\",\"\",\"\"))\n",
    "v.get_patch_by_id('001').set_color('blue')\n",
    "v.get_patch_by_id('001').set_edgecolor('none')\n",
    "\n",
    "\n",
    "v.get_patch_by_id('010').set_color('none')\n",
    "v.get_patch_by_id('100').set_color('none')\n",
    "v.get_patch_by_id('110').set_color('none')\n",
    "\n",
    "v.get_patch_by_id('101').set_color('blue')\n",
    "v.get_patch_by_id('101').set_edgecolor('none')\n",
    "\n",
    "\n",
    "\n",
    "#v.get_label_by_id(\"101\").set_text('')\n",
    "v.get_label_by_id('001').set_text('')\n",
    "v.get_label_by_id('010').set_text('')\n",
    "v.get_label_by_id('100').set_text('')\n",
    "v.get_label_by_id('110').set_text('')\n",
    "v.get_label_by_id('101').set_text('')\n",
    "\n",
    "\n",
    "v.get_patch_by_id('101').set_label('fd')\n",
    "\n",
    "#v.get_title_by_id('101')\n",
    "\n",
    "\n",
    "\n",
    "\n",
    "\n"
   ]
  },
  {
   "cell_type": "code",
   "execution_count": 61,
   "metadata": {},
   "outputs": [
    {
     "data": {
      "image/png": "[encoded data removed]",
      "text/plain": [
       "<matplotlib.figure.Figure at 0x10a28a240>"
      ]
     },
     "metadata": {},
     "output_type": "display_data"
    }
   ],
   "source": [
    "import pylab as plt\n",
    "from matplotlib_venn import venn3, venn3_circles\n",
    "\n",
    "v = venn3(subsets=(1,1,0,1,0,0,0))\n",
    "v.get_label_by_id('100').set_text('First')\n",
    "v.get_label_by_id('010').set_text('Second')\n",
    "v.get_label_by_id('001').set_text('Third')\n",
    "plt.title(\"Not a Venn diagram\")\n",
    "plt.show()"
   ]
  },
  {
   "cell_type": "markdown",
   "metadata": {},
   "source": [
    "see this venn diagram for probabilities.\n",
    "\n",
    "http://nbviewer.jupyter.org/url/drsfenner.org/public/notebooks/GrayedVennDiagram.ipynb\n"
   ]
  },
  {
   "cell_type": "markdown",
   "metadata": {},
   "source": [
    "<img src=\"../../../Screenshots/Screenshot 2017-09-19 00.50.01.png\" style=\"width:400px;\" alt=\"Figure 1-1\"/>\n"
   ]
  },
  {
   "cell_type": "code",
   "execution_count": 62,
   "metadata": {},
   "outputs": [
    {
     "name": "stdout",
     "output_type": "stream",
     "text": [
      "c_ex1result: 210.0\n",
      "c_ex2result: 2598960.0\n",
      "c_ex3result: 65536\n"
     ]
    }
   ],
   "source": [
    "c_ex1result = comb(10,4)\n",
    "print (\"c_ex1result:\",c_ex1result)\n",
    "c_ex2result = comb(52,5)\n",
    "print (\"c_ex2result:\",c_ex2result)\n",
    "c_ex3result = 2**16\n",
    "print (\"c_ex3result:\",c_ex3result)\n"
   ]
  },
  {
   "cell_type": "markdown",
   "metadata": {},
   "source": [
    "<img src=\"../../../Screenshots/Screenshot 2017-09-19 13.01.51.png\" style=\"width:400px;\" alt=\"Figure 1-1\"/>\n"
   ]
  },
  {
   "cell_type": "code",
   "execution_count": 63,
   "metadata": {},
   "outputs": [
    {
     "name": "stdout",
     "output_type": "stream",
     "text": [
      "cp_a1result: 0.05555555555555555\n",
      "cp_a2result: 0.75\n",
      "cp_a3result: 0.16666666666666666\n"
     ]
    }
   ],
   "source": [
    "#sum a+b=11 -> a=5,b=6 or a=6,b=5\n",
    "cp_a1result = math.factorial(2)/(6**2)\n",
    "print (\"cp_a1result:\",cp_a1result)\n",
    "\n",
    "# one can get even by multiplicaiton o x e and ex e. two slots for multiplicataion. \n",
    "#choose the first event or second one event.\n",
    "# find the odd product. to find it you need two odds. 3/6 for first die and 3/6 for the second. and substract from 1.\n",
    "cp_a2result = 1 - (3/6) *(3/6)\n",
    "print (\"cp_a2result:\",cp_a2result)\n",
    "\n",
    "# there are 6 doubles in 36 \n",
    "# another expression. lets chose the first one, it has 1/6 probabilities. the second one should have the same prob:1/6.\n",
    "# you will have this for 6 times: (1/6)*(1/6)*6\n",
    "\n",
    "cp_a3result = 6 / 36 \n",
    "print (\"cp_a3result:\",cp_a3result)\n",
    "\n",
    "\n",
    "\n"
   ]
  },
  {
   "cell_type": "markdown",
   "metadata": {},
   "source": [
    "<img src=\"../../../Screenshots/Screenshot 2017-09-19 13.13.25.png\" style=\"width:400px;\" alt=\"Figure 1-1\"/>\n",
    "\n"
   ]
  },
  {
   "cell_type": "code",
   "execution_count": 64,
   "metadata": {},
   "outputs": [
    {
     "name": "stdout",
     "output_type": "stream",
     "text": [
      "cp_ex2result: 0.1\n",
      "cp_ex2result_montecarlo: 0.1016\n"
     ]
    }
   ],
   "source": [
    "import random\n",
    "cp_ex2result = 3 * 2 * 2 *1*1 / math.factorial(5)\n",
    "print (\"cp_ex2result:\",cp_ex2result)\n",
    "\n",
    "n=10000\n",
    "count = 0\n",
    "\n",
    "for i in range(n):\n",
    "    x = random.sample(range(5),5) #zero based generation add 1 to x[i] to have [1,2,3,4,5] otherwise [0,1,2,3,4]\n",
    "    if ((x[0]+1) * (x[2]+1) * (x[4]+1)==15):\n",
    "        count+=1\n",
    "print (\"cp_ex2result_montecarlo:\", count/n)\n"
   ]
  },
  {
   "cell_type": "markdown",
   "metadata": {},
   "source": [
    "<img src=\"../../../Screenshots/Screenshot 2017-09-19 13.24.45.png\" style=\"width:400px;\" alt=\"Figure 1-1\"/>\n"
   ]
  },
  {
   "cell_type": "code",
   "execution_count": 75,
   "metadata": {},
   "outputs": [
    {
     "name": "stdout",
     "output_type": "stream",
     "text": [
      "cp_ex3result: 0.008333333333333333\n",
      "probability_rolling_dobule_sixes: 0.4914038761309034\n",
      "0.997737556561\n"
     ]
    }
   ],
   "source": [
    "#number of hats\n",
    "n=5\n",
    "cp_ex3result = 1**n / math.factorial(n)\n",
    "print (\"cp_ex3result:\",cp_ex3result)\n",
    "\n",
    "not_rolling_double_sixes=1-1/36\n",
    "\n",
    "probability_not_rolling_double_sixes = not_rolling_double_sixes**24\n",
    "probability_rolling_dobule_sixes = 1 - probability_not_rolling_double_sixes\n",
    "print (\"probability_rolling_dobule_sixes:\",probability_rolling_dobule_sixes)\n",
    "\n"
   ]
  },
  {
   "cell_type": "markdown",
   "metadata": {},
   "source": [
    "<img src=\"../../../Screenshots/Screenshot 2017-09-19 14.07.07.png\" style=\"width:400px;\" alt=\"Figure 1-1\"/>\n",
    "\n",
    "<img src=\"../../../Screenshots/Screenshot 2017-09-19 14.14.37.png\" style=\"width:400px;\" alt=\"Figure 1-1\"/>\n"
   ]
  },
  {
   "cell_type": "code",
   "execution_count": 80,
   "metadata": {},
   "outputs": [
    {
     "name": "stdout",
     "output_type": "stream",
     "text": [
      "cp_ex5_pa: 0.422569027611\n",
      "cp_ex6_pa: 0.00392464678179\n"
     ]
    }
   ],
   "source": [
    "cp_ex5_pa= comb(13,1) * comb(4,2) * comb(12,3) * comb(4,1)**3 / comb(52,5)\n",
    "print (\"cp_ex5_pa:\",cp_ex5_pa)\n",
    "\n",
    "\n",
    "cp_ex6_pa= 10 *(4**5-4)/ comb(52,5)\n",
    "print (\"cp_ex6_pa:\",cp_ex6_pa)\n",
    "\n"
   ]
  },
  {
   "cell_type": "markdown",
   "metadata": {},
   "source": [
    "<img src=\"../../../Screenshots/Screenshot 2017-09-19 14.18.00.png\" style=\"width:400px;\" alt=\"Figure 1-1\"/>\n",
    "\n",
    "<img src=\"../../../Screenshots/Screenshot 2017-09-19 14.21.58.png\" style=\"width:400px;\" alt=\"Figure 1-1\"/>\n"
   ]
  },
  {
   "cell_type": "code",
   "execution_count": 87,
   "metadata": {},
   "outputs": [
    {
     "name": "stdout",
     "output_type": "stream",
     "text": [
      "cp_ex5_pa: 0.0639948287007\n",
      "cp_ex8_pa: 0.324849939976 [2 3 4 5]\n"
     ]
    }
   ],
   "source": [
    "import numpy as np\n",
    "cp_ex5_pa = comb(4*3,2) * comb(9*4, 2) * comb(4*1, 1) / comb(52,5)\n",
    "print (\"cp_ex5_pa:\",cp_ex5_pa)\n",
    "\n",
    "cp_ex8_pa=0\n",
    "for x in np.arange(2,6,1):\n",
    "    cp_ex8_pa += comb(12,x) * comb(40,5-x) / comb(52,5)\n",
    "\n",
    "print (\"cp_ex8_pa:\",cp_ex8_pa)\n",
    "    "
   ]
  },
  {
   "cell_type": "markdown",
   "metadata": {},
   "source": [
    "<img src=\"../../../Screenshots/Screenshot 2017-09-19 14.32.28.png\" style=\"width:400px;\" alt=\"Figure 1-1\"/>\n"
   ]
  },
  {
   "cell_type": "code",
   "execution_count": 100,
   "metadata": {},
   "outputs": [
    {
     "name": "stdout",
     "output_type": "stream",
     "text": [
      "0 -0.0027397260274\n",
      "1 -0.0027397260274\n",
      "2 7.50609870503e-06\n",
      "3 0.00548691702419\n",
      "4 0.0136609971582\n",
      "5 0.0244701917099\n",
      "6 0.0378336137413\n",
      "7 0.053650047488\n",
      "8 0.0717992246595\n",
      "9 0.0921433512423\n",
      "10 0.11452885765\n",
      "11 0.138788341002\n",
      "12 0.164742664972\n",
      "13 0.192203180096\n",
      "14 0.220974025736\n",
      "15 0.250854474064\n",
      "16 0.2816412765\n",
      "17 0.313130973969\n",
      "18 0.345122134085\n",
      "19 0.377417480897\n",
      "20 0.409825886001\n",
      "21 0.442164193618\n",
      "22 0.474258856451\n",
      "23 0.505947363733\n",
      "24 0.537079447662\n",
      "25 0.567518059323\n",
      "26 0.597140110054\n",
      "27 0.625836978927\n",
      "28 0.653514791445\n",
      "29 0.680094478676\n",
      "30 0.705511629686\n",
      "31 0.729716153273\n",
      "32 0.752671767653\n",
      "33 0.774355338708\n",
      "34 0.794756088907\n",
      "35 0.813874699803\n",
      "36 0.831722331329\n",
      "37 0.848319580842\n",
      "38 0.863695404154\n",
      "39 0.877886019612\n",
      "40 0.890933814776\n",
      "41 0.902886273431\n",
      "42 0.913794938607\n",
      "43 0.923714425124\n",
      "44 0.932701492849\n",
      "45 0.940814189601\n",
      "46 0.948111070335\n",
      "47 0.954650497088\n",
      "48 0.96049002212\n",
      "49 0.965685854828\n",
      "50 0.970292411303\n",
      "51 0.974361944001\n",
      "52 0.977944247716\n",
      "53 0.981086437082\n",
      "54 0.983832790054\n",
      "55 0.986224651252\n",
      "56 0.988300388734\n",
      "57 0.990095397586\n",
      "58 0.991642143716\n",
      "59 0.992970241427\n"
     ]
    },
    {
     "data": {
      "image/png": "[encoded data removed]",
      "text/plain": [
       "<matplotlib.figure.Figure at 0x10a504240>"
      ]
     },
     "metadata": {},
     "output_type": "display_data"
    }
   ],
   "source": [
    "%matplotlib inline\n",
    "n= np.arange(1,61,1)\n",
    "p = np.ones(60)\n",
    "\n",
    "for i in np.arange(0,60,1):\n",
    "    p[i]=p[i-1] * (365-i+1)/365\n",
    "\n",
    "p = 1-p\n",
    "\n",
    "for i in range(60):\n",
    "    print (i, p[i])\n",
    "\n",
    "plt.figure(figsize=(1,1))\n",
    "plt.plot(n,p)\n",
    "plt.show()"
   ]
  },
  {
   "cell_type": "markdown",
   "metadata": {},
   "source": [
    "<img src=\"../../../Screenshots/Screenshot 2017-09-19 14.54.46.png\" style=\"width:400px;\" alt=\"Figure 1-1\"/>\n"
   ]
  },
  {
   "cell_type": "code",
   "execution_count": 119,
   "metadata": {},
   "outputs": [
    {
     "name": "stdout",
     "output_type": "stream",
     "text": [
      "prob_male: 0.52\n",
      "prob_female: 0.48\n",
      "prob_dem: 0.25\n",
      "probability of dem given male: 0.192307692308\n",
      "probability of female given dem: 0.6\n"
     ]
    }
   ],
   "source": [
    "cd_ex_matrix = np.array([10,22,20,15,15,18]).reshape(2,3)\n",
    "\n",
    "prob_male = np.sum(cd_ex_matrix[0])/np.sum(np.sum(cd_ex_matrix))\n",
    "print (\"prob_male:\",prob_male)\n",
    "\n",
    "prob_female = np.sum(cd_ex_matrix[1])/np.sum(np.sum(cd_ex_matrix))\n",
    "print (\"prob_female:\",prob_female)\n",
    "\n",
    "prob_dem = np.sum(cd_ex_matrix,axis=0)[0]/np.sum(np.sum(cd_ex_matrix))\n",
    "print (\"prob_dem:\",prob_dem)\n",
    "\n",
    "\n",
    "#P(D|M) = P(D N M)/ P(M)\n",
    "p_d_m = (10/100)/prob_male\n",
    "print (\"probability of dem given male:\", p_d_m)\n",
    "#P(F|D) = P(F N D)/ P(D)\n",
    "p_f_d = (15/np.sum(np.sum(cd_ex_matrix))) /prob_dem\n",
    "print (\"probability of female given dem:\", p_f_d)\n"
   ]
  },
  {
   "cell_type": "markdown",
   "metadata": {},
   "source": [
    "\n",
    "<img src=\"../../../Screenshots/Screenshot 2017-09-19 15.06.36.png\" style=\"width:400px;\" alt=\"Figure 1-1\"/>\n"
   ]
  },
  {
   "cell_type": "code",
   "execution_count": 121,
   "metadata": {},
   "outputs": [
    {
     "name": "stdout",
     "output_type": "stream",
     "text": [
      "p_f_s: 0.01809954751131222 0.01809954751131222\n"
     ]
    }
   ],
   "source": [
    "#F : first card is a face card\n",
    "#S : second card is an ace\n",
    "\n",
    "#P(F and S) = P(S|F) * P(F)\n",
    "#P(F): choose 4*3 in 52\n",
    "#P(S): choose 4 in 51\n",
    "\n",
    "p_f_s = (12/52) * 4/51 \n",
    "\n",
    "print (\"p_f_s:\",p_f_s, 48/2652)"
   ]
  },
  {
   "cell_type": "markdown",
   "metadata": {},
   "source": [
    "\n",
    "<img src=\"../../../Screenshots/Screenshot 2017-09-19 15.11.36.png\" style=\"width:400px;\" alt=\"Figure 1-1\"/>\n"
   ]
  },
  {
   "cell_type": "code",
   "execution_count": null,
   "metadata": {},
   "outputs": [],
   "source": [
    "#dont code this in python. it is obvious"
   ]
  },
  {
   "cell_type": "markdown",
   "metadata": {},
   "source": [
    "<img src=\"../../../Screenshots/Screenshot 2017-09-19 20.14.47.png\" style=\"width:400px;\" alt=\"Figure 1-1\"/>\n",
    "<img src=\"../../../Screenshots/Screenshot 2017-09-19 20.15.32.png\" style=\"width:400px;\" alt=\"Figure 1-1\"/>\n",
    "\n"
   ]
  },
  {
   "cell_type": "code",
   "execution_count": null,
   "metadata": {},
   "outputs": [],
   "source": [
    "#do nothing for the above explanation."
   ]
  },
  {
   "cell_type": "markdown",
   "metadata": {},
   "source": [
    "<img src=\"../../../Screenshots/Screenshot 2017-09-19 20.32.09.png\" style=\"width:400px;\" alt=\"Figure 1-1\"/>\n",
    "<img src=\"../../../Screenshots/Screenshot 2017-09-19 20.32.21.png\" style=\"width:400px;\" alt=\"Figure 1-1\"/>\n",
    "\n",
    "\n"
   ]
  },
  {
   "cell_type": "code",
   "execution_count": 41,
   "metadata": {},
   "outputs": [
    {
     "data": {
      "image/png": "[encoded data removed]",
      "text/plain": [
       "<matplotlib.figure.Figure at 0x109d8a748>"
      ]
     },
     "metadata": {},
     "output_type": "display_data"
    }
   ],
   "source": [
    "%matplotlib inline\n",
    "import numpy as np\n",
    "from scipy.special import comb\n",
    "from scipy.special import perm\n",
    "from matplotlib import pyplot as plt\n",
    "\n",
    "n=8\n",
    "\n",
    "X=np.arange(0,n+1,1)  # elements of X are the support of the pmf\n",
    "\n",
    "def discp_pmf(x, n):\n",
    "    return comb(n,x)/(2.0**n)\n",
    "\n",
    "probs = []\n",
    "for i in range(len(X)):\n",
    "    probs.append( discp_pmf(i,n) )\n",
    "\n",
    "plt.plot(X, probs)\n",
    "plt.show()"
   ]
  },
  {
   "cell_type": "markdown",
   "metadata": {},
   "source": [
    "<img src=\"../../../Screenshots/Screenshot 2017-09-19 20.50.46.png\" style=\"width:400px;\" alt=\"Figure 1-1\"/>\n"
   ]
  },
  {
   "cell_type": "code",
   "execution_count": 69,
   "metadata": {},
   "outputs": [
    {
     "data": {
      "image/png": "[encoded data removed]",
      "text/plain": [
       "<matplotlib.figure.Figure at 0x109f37940>"
      ]
     },
     "metadata": {},
     "output_type": "display_data"
    }
   ],
   "source": [
    "%matplotlib inline\n",
    "import numpy as np\n",
    "from scipy.special import comb\n",
    "from scipy.special import perm\n",
    "from matplotlib import pyplot as plt\n",
    "from matplotlib import collections as matcoll\n",
    "\n",
    "n=4 # four jacks available\n",
    "\n",
    "X=np.arange(0,n+1,1)  # 0,1,2,3,4 -> possible numbers in a hand of 10.\n",
    "\n",
    "def discp_pmf(x):\n",
    "    return comb(n,x) * comb(52-n, 10-x)/comb(52,10)\n",
    "\n",
    "probs = []\n",
    "lines=[]\n",
    "for i in range(len(X)):\n",
    "    p = discp_pmf(i)\n",
    "    line=[(X[i],0), (X[i],p)]\n",
    "    probs.append( p )\n",
    "    lines.append(line)\n",
    "    \n",
    "linecoll = matcoll.LineCollection(lines)\n",
    "fig, ax = plt.subplots()\n",
    "ax.add_collection(linecoll)\n",
    "\n",
    "plt.scatter(X,probs)\n",
    "plt.xticks(X,rotation='vertical')\n",
    "plt.ylim(0,0.5)\n",
    "plt.show()"
   ]
  },
  {
   "cell_type": "markdown",
   "metadata": {},
   "source": [
    "<img src=\"../../../Screenshots/Screenshot 2017-09-19 21.06.35.png\" style=\"width:400px;\" alt=\"Figure 1-1\"/>\n"
   ]
  },
  {
   "cell_type": "code",
   "execution_count": 68,
   "metadata": {},
   "outputs": [
    {
     "data": {
      "image/png": "[encoded data removed]",
      "text/plain": [
       "<matplotlib.figure.Figure at 0x10a0d8908>"
      ]
     },
     "metadata": {},
     "output_type": "display_data"
    }
   ],
   "source": [
    "%matplotlib inline\n",
    "import numpy as np\n",
    "from scipy.special import comb\n",
    "from scipy.special import perm\n",
    "from matplotlib import pyplot as plt\n",
    "from matplotlib import collections as matcoll\n",
    "import math\n",
    "n=15 # four jacks available\n",
    "X=np.arange(2,n+n+1,1) # support: 2,3,4...30 -> possible numbers in a hand of 10. \n",
    "\n",
    "\n",
    "def discp_pmf(x):\n",
    "    ret = (15 - np.abs (x-16))/n**2\n",
    "    return ret\n",
    "\n",
    "probs = []\n",
    "lines=[]\n",
    "for i in range(len(X)):\n",
    "    p = discp_pmf(i)\n",
    "    line=[(X[i],0), (X[i],p)]\n",
    "    probs.append( p )\n",
    "    lines.append(line)\n",
    "    \n",
    "linecoll = matcoll.LineCollection(lines)\n",
    "fig, ax = plt.subplots()\n",
    "ax.add_collection(linecoll)\n",
    "\n",
    "plt.scatter(X,probs)\n",
    "plt.xticks(X,rotation='vertical')\n",
    "plt.ylim(0,0.1)\n",
    "plt.show()"
   ]
  },
  {
   "cell_type": "markdown",
   "metadata": {},
   "source": [
    "\n",
    "<img src=\"../../../Screenshots/Screenshot 2017-09-19 21.16.12.png\" style=\"width:400px;\" alt=\"Figure 1-1\"/>\n",
    "<img src=\"../../../Screenshots/Screenshot 2017-09-19 21.23.29.png\" style=\"width:400px;\" alt=\"Figure 1-1\"/>\n"
   ]
  },
  {
   "cell_type": "code",
   "execution_count": 80,
   "metadata": {},
   "outputs": [
    {
     "data": {
      "image/png": "[encoded data removed]",
      "text/plain": [
       "<matplotlib.figure.Figure at 0x10a750438>"
      ]
     },
     "metadata": {},
     "output_type": "display_data"
    }
   ],
   "source": [
    "%matplotlib inline\n",
    "import numpy as np\n",
    "from scipy.special import comb\n",
    "from scipy.special import perm\n",
    "from matplotlib import pyplot as plt\n",
    "from matplotlib import collections as matcoll\n",
    "import math\n",
    "\n",
    "n=60 \n",
    "support=np.arange(0,61,1) # support: 0,1,2,3,4...60 -> possible numbers in a hand of 10. \n",
    "X=np.arange(0,61,1) # support: 0,5,10..60 -> possible numbers in a hand of 10. \n",
    "\n",
    "\n",
    "def discp_pmf(x):\n",
    "    ret = comb(60,x) * ( (1/6)**x ) * ( (5/6)**(60-x) )\n",
    "    return ret\n",
    "\n",
    "probs = []\n",
    "lines=[]\n",
    "for i in range(len(X)):\n",
    "    p = discp_pmf(i)\n",
    "    line=[(X[i],0), (X[i],p)]\n",
    "    probs.append( p )\n",
    "    lines.append(line)\n",
    "    \n",
    "linecoll = matcoll.LineCollection(lines)\n",
    "fig, ax = plt.subplots()\n",
    "ax.add_collection(linecoll)\n",
    "\n",
    "plt.scatter(X[:20],probs[:20])\n",
    "plt.xticks(X[:20],rotation='vertical')\n",
    "plt.ylim(0,0.2)\n",
    "plt.xlim(0,20)\n",
    "plt.show()"
   ]
  },
  {
   "cell_type": "markdown",
   "metadata": {},
   "source": [
    "<img src=\"../../../Screenshots/Screenshot 2017-09-19 22.47.59.png\" style=\"width:400px;\" alt=\"Figure 1-1\"/>\n"
   ]
  },
  {
   "cell_type": "code",
   "execution_count": 85,
   "metadata": {
    "scrolled": true
   },
   "outputs": [
    {
     "data": {
      "image/png": "[encoded data removed]",
      "text/plain": [
       "<matplotlib.figure.Figure at 0x10a4e8cc0>"
      ]
     },
     "metadata": {},
     "output_type": "display_data"
    }
   ],
   "source": [
    "%matplotlib inline\n",
    "import numpy as np\n",
    "from scipy.special import comb\n",
    "from scipy.special import perm\n",
    "from matplotlib import pyplot as plt\n",
    "from matplotlib import collections as matcoll\n",
    "import math\n",
    "\n",
    "support=np.arange(4,15,1) # support: 0,1,2,3,4...60 -> possible numbers in a hand of 10. \n",
    "X=np.arange(4,15,1) # support: 0,5,10..60 -> possible numbers in a hand of 10. \n",
    "\n",
    "\n",
    "def discp_pmf(x):\n",
    "    ret = comb(x-1,3) * comb(1,1) * comb(15-x,1)/comb(15,5)\n",
    "    return ret\n",
    "\n",
    "probs = []\n",
    "lines=[]\n",
    "for i in range(len(X)):\n",
    "    p = discp_pmf(i)\n",
    "    line=[(X[i],0), (X[i],p)]\n",
    "    probs.append( p )\n",
    "    lines.append(line)\n",
    "    \n",
    "linecoll = matcoll.LineCollection(lines)\n",
    "fig, ax = plt.subplots()\n",
    "ax.add_collection(linecoll)\n",
    "\n",
    "plt.scatter(X[:20],probs[:20])\n",
    "plt.xticks(X[:20],rotation='vertical')\n",
    "plt.ylim(0,0.2)\n",
    "plt.xlim(0,20)\n",
    "plt.show()"
   ]
  },
  {
   "cell_type": "markdown",
   "metadata": {},
   "source": [
    "<img src=\"../../../Screenshots/Screenshot 2017-09-19 22.57.33.png\" style=\"width:400px;\" alt=\"Figure 1-1\"/>\n",
    "<img src=\"../../../Screenshots/Screenshot 2017-09-19 23.00.04.png\" style=\"width:400px;\" alt=\"Figure 1-1\"/>\n",
    "\n"
   ]
  }
 ],
 "metadata": {
  "kernelspec": {
   "display_name": "Python 3",
   "language": "python",
   "name": "python3"
  },
  "language_info": {
   "codemirror_mode": {
    "name": "ipython",
    "version": 3
   },
   "file_extension": ".py",
   "mimetype": "text/x-python",
   "name": "python",
   "nbconvert_exporter": "python",
   "pygments_lexer": "ipython3",
   "version": "3.6.1"
  }
 },
 "nbformat": 4,
 "nbformat_minor": 2
}
