{
 "cells": [
  {
   "cell_type": "markdown",
   "metadata": {},
   "source": [
    "<img src=\"../../../Screenshots/Screenshot 2017-09-20 17.31.47.png\" style=\"width:400px;\" alt=\"Figure 1-1\">\n",
    "<img src=\"../../../Screenshots/Screenshot 2017-09-20 17.32.41.png\" style=\"width:400px;\" alt=\"Figure 1-1\">\n",
    "\n",
    "\n",
    "<!---\n",
    "\\begin{align}\n",
    "\\dot{x} & = \\sigma(y-x) \\\\\n",
    "\\dot{y} & = \\rho x - y - xz \\\\\n",
    "\\dot{z} & = -\\beta z + xy\n",
    "\\end{align}\n",
    "-->\n",
    "\n",
    "<!--\n",
    "$e^{i\\pi} + 1 = 0$\n",
    "\n",
    "$$e^x=\\sum_{i=0}^\\infty \\frac{1}{i!}x^i$$\n",
    "-->\n",
    "\n",
    "Sample mean:\n",
    "\n",
    "$\\bar{x}=\\frac{1}{n}\\sum_{i=1}^n x_i$\n",
    "\n",
    "Variance:\n",
    "\n",
    "$s^2=\\frac{1}{n-1}\\sum_{i=1}^n (x_i-\\bar{x})$\n",
    "\n",
    "\n",
    "[comment]: <> (This is a comment, it will not be included)\n",
    "[//]: # (This may be the most platform independent comment)\n",
    "\n"
   ]
  },
  {
   "cell_type": "code",
   "execution_count": 8,
   "metadata": {},
   "outputs": [
    {
     "name": "stdout",
     "output_type": "stream",
     "text": [
      "mean, variance: 72.2243478261 1405.40243478\n"
     ]
    },
    {
     "data": {
      "image/png": "[encoded data removed]",
      "text/plain": [
       "<matplotlib.figure.Figure at 0x1073a1e10>"
      ]
     },
     "metadata": {},
     "output_type": "display_data"
    }
   ],
   "source": [
    "%matplotlib inline\n",
    "import numpy as np\n",
    "import seaborn as sns\n",
    "\n",
    "\n",
    "bearings = np.array([17.88,28.92,33,41.52,42.12,\n",
    "         45.60, 48.48,51.84,51.96,54.12,\n",
    "         55.56, 67.80, 68.64,68.64,68.88,\n",
    "         84.12,93.12,98.64, 105.12, 105.84,\n",
    "         127.92, 128.04, 173.40])\n",
    "\n",
    "n = len(bearings)\n",
    "mean = np.sum(bearings)/n\n",
    "\n",
    "var = np.sum([(x-mean)**2 for x in bearings ]) / (n-1)\n",
    "print(\"mean, variance:\", mean, var)\n",
    "sns.distplot(bearings);\n"
   ]
  },
  {
   "cell_type": "markdown",
   "metadata": {},
   "source": [
    "<img src=\"../../../Screenshots/Screenshot 2017-09-21 17.03.45.png\" style=\"width:400px;\" alt=\"Figure 1-1\">\n",
    "<img src=\"../../../Screenshots/Screenshot 2017-09-21 17.05.35.png\" style=\"width:400px;\" alt=\"Figure 1-1\">\n",
    "<img src=\"../../../Screenshots/Screenshot 2017-09-21 17.11.00.png\" style=\"width:400px;\" alt=\"Figure 1-1\">\n",
    "<img src=\"../../../Screenshots/Screenshot 2017-09-21 17.13.43.png\" style=\"width:400px;\" alt=\"Figure 1-1\">\n",
    "\n",
    "<img src=\"../../../Screenshots/Screenshot 2017-09-21 17.18.21.png\" style=\"width:400px;\" alt=\"Figure 1-1\">\n",
    "<img src=\"../../../Screenshots/Screenshot 2017-09-21 17.18.31.png\" style=\"width:400px;\" alt=\"Figure 1-1\">\n",
    "<img src=\"../../../Screenshots/Screenshot 2017-09-21 17.18.58.png\" style=\"width:400px;\" alt=\"Figure 1-1\">\n",
    "<img src=\"../../../Screenshots/Screenshot 2017-09-21 17.19.17.png\" style=\"width:400px;\" alt=\"Figure 1-1\">\n",
    "\n",
    "<img src=\"../../../Screenshots/Screenshot 2017-09-21 17.22.29.png\" style=\"width:400px;\" alt=\"Figure 1-1\">\n",
    "<img src=\"../../../Screenshots/Screenshot 2017-09-21 17.22.34.png\" style=\"width:400px;\" alt=\"Figure 1-1\">\n",
    "<img src=\"../../../Screenshots/Screenshot 2017-09-21 17.23.32.png\" style=\"width:400px;\" alt=\"Figure 1-1\">\n",
    "<img src=\"../../../Screenshots/Screenshot 2017-09-21 17.25.17.png\" style=\"width:400px;\" alt=\"Figure 1-1\">\n",
    "<img src=\"../../../Screenshots/Screenshot 2017-09-21 17.27.35.png\" style=\"width:400px;\" alt=\"Figure 1-1\">\n",
    "\n",
    "<img src=\"../../../Screenshots/Screenshot 2017-09-21 17.36.46.png\" style=\"width:400px;\" alt=\"Figure 1-1\">\n",
    "<img src=\"../../../Screenshots/Screenshot 2017-09-21 17.50.51.png\" style=\"width:400px;\" alt=\"Figure 1-1\">\n",
    "\n",
    "\n",
    "<img src=\"../../../Screenshots/Screenshot 2017-09-21 22.55.42.png\" style=\"width:400px;\" alt=\"Figure 1-1\">\n",
    "<img src=\"../../../Screenshots/Screenshot 2017-09-21 22.56.49.png\" style=\"width:400px;\" alt=\"Figure 1-1\">\n",
    "<img src=\"../../../Screenshots/Screenshot 2017-09-21 22.59.10.png\" style=\"width:400px;\" alt=\"Figure 1-1\">\n",
    "<img src=\"../../../Screenshots/Screenshot 2017-09-21 23.00.01.png\" style=\"width:400px;\" alt=\"Figure 1-1\">\n",
    "<img src=\"../../../Screenshots/Screenshot 2017-09-21 23.02.37.png\" style=\"width:400px;\" alt=\"Figure 1-1\">\n",
    "<img src=\"../../../Screenshots/Screenshot 2017-09-21 23.03.29.png\" style=\"width:400px;\" alt=\"Figure 1-1\">\n",
    "<img src=\"../../../Screenshots/Screenshot 2017-09-21 23.04.29.png\" style=\"width:400px;\" alt=\"Figure 1-1\">\n",
    "\n"
   ]
  },
  {
   "cell_type": "markdown",
   "metadata": {},
   "source": [
    "## Random variate generation\n",
    "\n",
    "<img src=\"../../../Screenshots/Screenshot 2017-09-23 15.59.11.png\" style=\"width:400px;\" alt=\"Figure 1-1\">\n",
    "<img src=\"../../../Screenshots/Screenshot 2017-09-23 16.00.20.png\" style=\"width:400px;\" alt=\"Figure 1-1\">"
   ]
  },
  {
   "cell_type": "code",
   "execution_count": 11,
   "metadata": {},
   "outputs": [
    {
     "name": "stdout",
     "output_type": "stream",
     "text": [
      "rands.median: 1.4142444384\n",
      "analytic solution: 1.41421356237\n"
     ]
    }
   ],
   "source": [
    "import numpy as np\n",
    "import scipy\n",
    "\n",
    "rand_medians = []\n",
    "for i in range(10): #simulate Monte carlo 3000 times\n",
    "    rands_ = np.random.uniform(0,1,10001)\n",
    "    rands_ =  np.sort(2*np.sqrt(rands_))\n",
    "    med_ = rands_[5001]\n",
    "    rand_medians.append(med_)\n",
    "\n",
    "print(\"rands.median:\", np.mean(rand_medians))\n",
    "print(\"analytic solution:\", np.sqrt(2))\n"
   ]
  },
  {
   "cell_type": "markdown",
   "metadata": {},
   "source": [
    "<img src=\"../../../Screenshots/Screenshot 2017-09-23 16.09.58.png\" style=\"width:400px;\" alt=\"Figure 1-1\">\n",
    "<img src=\"../../../Screenshots/Screenshot 2017-09-23 16.13.15.png\" style=\"width:400px;\" alt=\"Figure 1-1\">\n"
   ]
  },
  {
   "cell_type": "code",
   "execution_count": 22,
   "metadata": {},
   "outputs": [
    {
     "name": "stdout",
     "output_type": "stream",
     "text": [
      "rands.median: 0.85603282691\n",
      "analytic solution:no analytic solution\n"
     ]
    }
   ],
   "source": [
    "import numpy as np\n",
    "import scipy\n",
    "\n",
    "rand_medians = []\n",
    "for i in range(10): #simulate Monte carlo 3000 times\n",
    "    d = []\n",
    "    n = 10**4\n",
    "    for k in range(n):\n",
    "        x1 = np.random.uniform(0,1)\n",
    "        y1 = np.random.uniform(0,1)\n",
    "        x2 = np.random.uniform(0,1)\n",
    "        y2 = np.random.uniform(0,1)\n",
    "        d.append(np.sqrt((x1-x2)*(x1-x2)+(y1-y2)*(y1-y2)))\n",
    "    d90 = np.sort(d)[int(0.9*n)]\n",
    "    rand_medians.append(d90)\n",
    "print(\"rands.median:\", np.mean(rand_medians))\n",
    "print(\"analytic solution:no analytic solution\")"
   ]
  },
  {
   "cell_type": "markdown",
   "metadata": {},
   "source": [
    "<img src=\"../../../Screenshots/Screenshot 2017-09-23 17.07.33.png\" style=\"width:400px;\" alt=\"Figure 1-1\">\n",
    "<img src=\"../../../Screenshots/Screenshot 2017-09-23 17.09.16.png\" style=\"width:400px;\" alt=\"Figure 1-1\">\n",
    "<img src=\"../../../Screenshots/Screenshot 2017-09-23 17.26.09.png\" style=\"width:400px;\" alt=\"Figure 1-1\">\n",
    "<img src=\"../../../Screenshots/Screenshot 2017-09-23 17.26.40.png\" style=\"width:400px;\" alt=\"Figure 1-1\">\n",
    "<img src=\"../../../Screenshots/Screenshot 2017-09-23 17.29.15.png\" style=\"width:400px;\" alt=\"Figure 1-1\">\n",
    "<img src=\"../../../Screenshots/Screenshot 2017-09-23 17.43.12.png\" style=\"width:400px;\" alt=\"Figure 1-1\">\n",
    "<img src=\"../../../Screenshots/Screenshot 2017-09-23 17.47.00.png\" style=\"width:400px;\" alt=\"Figure 1-1\">\n",
    "<img src=\"../../../Screenshots/Screenshot 2017-09-23 17.48.16.png\" style=\"width:400px;\" alt=\"Figure 1-1\">\n",
    "<img src=\"../../../Screenshots/Screenshot 2017-09-23 17.50.50.png\" style=\"width:400px;\" alt=\"Figure 1-1\">\n"
   ]
  }
 ],
 "metadata": {
  "kernelspec": {
   "display_name": "Python 3",
   "language": "python",
   "name": "python3"
  },
  "language_info": {
   "codemirror_mode": {
    "name": "ipython",
    "version": 3
   },
   "file_extension": ".py",
   "mimetype": "text/x-python",
   "name": "python",
   "nbconvert_exporter": "python",
   "pygments_lexer": "ipython3",
   "version": "3.6.1"
  }
 },
 "nbformat": 4,
 "nbformat_minor": 2
}
