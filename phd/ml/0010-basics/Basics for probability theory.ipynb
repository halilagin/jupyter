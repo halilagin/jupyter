{
 "cells": [
  {
   "cell_type": "markdown",
   "metadata": {},
   "source": [
    "# Basics\n",
    "\n",
    "This section explains preliminaries about probability theory.\n",
    "\n",
    "The source of this document is the youtube channel whose address is listed below.\n",
    "\n",
    "https://www.youtube.com/channel/UCoXVQ0xV2VOk3XrREv5061w/videos\n"
   ]
  },
  {
   "cell_type": "markdown",
   "metadata": {},
   "source": [
    "\n",
    "The question \n",
    "\n",
    "\n",
    "<img src=\"../../../Screenshots/Screenshot%202017-09-18%2015.49.38.png\" style=\"width:400px;\" alt=\"Figure 1-1\">"
   ]
  },
  {
   "cell_type": "code",
   "execution_count": 21,
   "metadata": {},
   "outputs": [
    {
     "name": "stdout",
     "output_type": "stream",
     "text": [
      "ex1result: 65536\n"
     ]
    },
    {
     "data": {
      "text/plain": [
       "'ex2result:52*51*50*49*48*47*46*45*44*43*42*41*40*39*38*37*36*35*34*33*32*31*30*29*28*27*26*25*24*23*22*21*20*19*18*17*16*15*14*13*12*11*10*9*8*7*6*5*4*3*2*1'"
      ]
     },
     "execution_count": 21,
     "metadata": {},
     "output_type": "execute_result"
    }
   ],
   "source": [
    "import numpy as np\n",
    "import scipy,  math\n",
    "\n",
    "ex1result = 2**16\n",
    "print (\"ex1result:\",ex1result)\n",
    "ex2result  = None # dont calculate the second question because it is 52!, 10^68, very big number.\n",
    "\n",
    "cardNo=52\n",
    "calc=\"\"\n",
    "for fac in reversed(range(cardNo)):\n",
    "    calc += \"*\"+str(fac+1) \n",
    "\n",
    "ex2result = calc[1:] # substring\n",
    "\"ex2result:\" + ex2result"
   ]
  },
  {
   "cell_type": "markdown",
   "metadata": {},
   "source": [
    "<img src=\"../../../Screenshots/Screenshot 2017-09-18 16.21.03.png\" style=\"width:400px;\" alt=\"Figure 1-1\">"
   ]
  },
  {
   "cell_type": "code",
   "execution_count": 23,
   "metadata": {},
   "outputs": [
    {
     "name": "stdout",
     "output_type": "stream",
     "text": [
      "ex3result: 720\n"
     ]
    }
   ],
   "source": [
    "ex3result = math.factorial(6)\n",
    "print (\"ex3result:\", ex3result)"
   ]
  },
  {
   "cell_type": "code",
   "execution_count": 26,
   "metadata": {},
   "outputs": [
    {
     "name": "stdout",
     "output_type": "stream",
     "text": [
      "ex4result: 72\n",
      "probability of alternating man and woman in the lining up of 6 people (3 m, 3w.): 0.1\n"
     ]
    }
   ],
   "source": [
    "#ex4question: means 3 women and 3 men\n",
    "\n",
    "ex4result = 6*3*2*2*1*1  # in first case choose any of 6, then choose according to the buckets sized 3 and 2 (1 is missing because we use in th first place.)\n",
    "\n",
    "print (\"ex4result:\", ex4result)\n",
    "\n",
    "ex4probabilityResult = ex4result/ex3result\n",
    "\n",
    "print (\"probability of alternating man and woman in the lining up of 6 people (3 m, 3w.):\", ex4probabilityResult)\n"
   ]
  },
  {
   "cell_type": "markdown",
   "metadata": {},
   "source": [
    "<img src=\"../../../Screenshots/Screenshot 2017-09-18 18.49.48.png\" style=\"width:400px;\" alt=\"Figure 1-1\"/>"
   ]
  },
  {
   "cell_type": "code",
   "execution_count": 28,
   "metadata": {},
   "outputs": [
    {
     "name": "stdout",
     "output_type": "stream",
     "text": [
      "ex5result: 1440\n",
      "ex6result: 3600\n"
     ]
    }
   ],
   "source": [
    "ex5result = math.factorial(6) * math.factorial(2)\n",
    "print (\"ex5result:\", ex5result)\n",
    "\n",
    "ex6result =  math.factorial(7) - ex5result  \n",
    "print (\"ex6result:\", ex6result)"
   ]
  },
  {
   "cell_type": "markdown",
   "metadata": {},
   "source": [
    "<img src=\"../../../Screenshots/Screenshot 2017-09-18 18.53.26.png\" style=\"width:400px;\" alt=\"Figure 1-1\"/>\n"
   ]
  },
  {
   "cell_type": "code",
   "execution_count": 50,
   "metadata": {},
   "outputs": [
    {
     "name": "stdout",
     "output_type": "stream",
     "text": [
      "p_ex1result: 5040.0\n",
      "p_ex1result_a: 15600.0\n",
      "p_ex1result_b: 17576\n"
     ]
    }
   ],
   "source": [
    "from scipy.special import comb\n",
    "from scipy.special import perm\n",
    "\n",
    "p_ex1result = perm(10,4)\n",
    "print (\"p_ex1result:\", p_ex1result)\n",
    "\n",
    "p_ex1result_a = perm(26,3)\n",
    "print (\"p_ex1result_a:\", p_ex1result_a)\n",
    "\n",
    "\n",
    "p_ex1result_b = 26**3\n",
    "print (\"p_ex1result_b:\", p_ex1result_b)"
   ]
  },
  {
   "cell_type": "markdown",
   "metadata": {},
   "source": [
    "# Circular permutation example 1\n",
    "\n",
    "\n",
    "<img src=\"../../../Screenshots/Screenshot 2017-09-18 19.06.38.png\" style=\"width:400px;\" alt=\"Figure 1-1\"/>\n",
    "\n"
   ]
  },
  {
   "cell_type": "code",
   "execution_count": 54,
   "metadata": {},
   "outputs": [
    {
     "name": "stdout",
     "output_type": "stream",
     "text": [
      "cp_ex1result: 6\n",
      "cp_ex1b_result: 24\n",
      "cp_ex1c_result: 3.0\n"
     ]
    }
   ],
   "source": [
    "n=4\n",
    "\n",
    "cp_ex1result = math.factorial(n-1);\n",
    "print (\"cp_ex1result:\",cp_ex1result)\n",
    "\n",
    "cp_ex1a_result=\"it is not a new circular permutation\"\n",
    "cp_ex1b_result= math.factorial(n) # \" it breaks the circular permutation, think it as linear.\"\n",
    "print (\"cp_ex1b_result:\",cp_ex1b_result)\n",
    "\n",
    "cp_ex1c_result= math.factorial(n-1)/2 \n",
    "# divided by 2 because reverse permutation is not allowed, means remove the reverse.\n",
    "# building a circuit means it is a circular permutation\n",
    "print (\"cp_ex1c_result:\",cp_ex1c_result)\n",
    "\n",
    "\n",
    "\n",
    "\n"
   ]
  },
  {
   "cell_type": "markdown",
   "metadata": {},
   "source": [
    "<img src=\"../../../Screenshots/Screenshot 2017-09-18 23.49.45.png\" style=\"width:400px;\" alt=\"Figure 1-1\"/>\n",
    "\n"
   ]
  },
  {
   "cell_type": "code",
   "execution_count": 59,
   "metadata": {},
   "outputs": [
    {
     "name": "stdout",
     "output_type": "stream",
     "text": [
      "npe_ex1result: 40320\n",
      "npe_ex2result: 1814400.0\n",
      "npe_ex3result: 50400.0\n",
      "npe_ex4result: 10.0\n"
     ]
    }
   ],
   "source": [
    "n=len(\"firendly\")\n",
    "npe_ex1result = math.factorial(n)\n",
    "print (\"npe_ex1result:\",npe_ex1result)\n",
    "\n",
    "n=len(\"unfirendly\")\n",
    "npe_ex2result = math.factorial(n)/math.factorial(2) # divided by 2 because there are 2 'n' and arranging between 'n's has no effect.\n",
    "print (\"npe_ex2result:\",npe_ex2result)\n",
    "\n",
    "\n",
    "n=len(\"statistics\")\n",
    "#3t, 3s, 2i, 1a, 1c\n",
    "npe_ex3result = math.factorial(n)/math.factorial(3)/math.factorial(3)/math.factorial(2) \n",
    "print (\"npe_ex3result:\",npe_ex3result)\n",
    "\n",
    "#1 twin and 1 triplet = n=2+3\n",
    "n=2+3\n",
    "npe_ex4result = math.factorial(n)/math.factorial(2)/math.factorial(3)\n",
    "print (\"npe_ex4result:\",npe_ex4result)\n"
   ]
  },
  {
   "cell_type": "markdown",
   "metadata": {},
   "source": [
    "<img src=\"../../../Screenshots/Screenshot 2017-09-18 23.59.24.png\" style=\"width:400px;\" alt=\"Figure 1-1\"/>"
   ]
  },
  {
   "cell_type": "code",
   "execution_count": 63,
   "metadata": {},
   "outputs": [
    {
     "name": "stdout",
     "output_type": "stream",
     "text": [
      "com_ex1result: 210.0\n",
      "com_ex2result: 2598960.0\n",
      "com_ex3result: 4368.0\n"
     ]
    }
   ],
   "source": [
    "com_ex1result= comb(10,4)\n",
    "print (\"com_ex1result:\",com_ex1result)\n",
    "\n",
    "com_ex2result= comb(52,5)\n",
    "print (\"com_ex2result:\",com_ex2result)\n",
    "\n",
    "com_ex3result= comb(16,5)\n",
    "print (\"com_ex3result:\",com_ex3result)\n"
   ]
  },
  {
   "cell_type": "markdown",
   "metadata": {},
   "source": [
    "# Venn diagram example\n"
   ]
  },
  {
   "cell_type": "code",
   "execution_count": 66,
   "metadata": {},
   "outputs": [
    {
     "name": "stderr",
     "output_type": "stream",
     "text": [
      "/Library/Frameworks/Python.framework/Versions/3.6/lib/python3.6/site-packages/matplotlib/figure.py:402: UserWarning: matplotlib is currently using a non-GUI backend, so cannot show the figure\n",
      "  \"matplotlib is currently using a non-GUI backend, \"\n"
     ]
    },
    {
     "data": {
      "image/png": "[encoded data removed]",
      "text/plain": [
       "<matplotlib.figure.Figure at 0x109db1cc0>"
      ]
     },
     "metadata": {},
     "output_type": "display_data"
    }
   ],
   "source": [
    "%matplotlib inline\n",
    "from matplotlib_venn import venn2\n",
    "from matplotlib import pyplot as plt\n",
    "\n",
    "plt = plt.figure(figsize=(1,1))\n",
    "venn2(subsets = (3, 2, 1))\n",
    "plt.show()\n"
   ]
  },
  {
   "cell_type": "code",
   "execution_count": 67,
   "metadata": {},
   "outputs": [
    {
     "data": {
      "text/plain": [
       "<matplotlib_venn._common.VennDiagram at 0x109f59eb8>"
      ]
     },
     "execution_count": 67,
     "metadata": {},
     "output_type": "execute_result"
    },
    {
     "data": {
      "image/png": "[encoded data removed]",
      "text/plain": [
       "<matplotlib.figure.Figure at 0x109d3ceb8>"
      ]
     },
     "metadata": {},
     "output_type": "display_data"
    }
   ],
   "source": [
    "venn2([set(['A', 'B', 'C', 'D']), set(['D', 'E', 'F'])])"
   ]
  },
  {
   "cell_type": "code",
   "execution_count": 70,
   "metadata": {},
   "outputs": [
    {
     "data": {
      "text/plain": [
       "<matplotlib_venn._common.VennDiagram at 0x109fa95c0>"
      ]
     },
     "execution_count": 70,
     "metadata": {},
     "output_type": "execute_result"
    },
    {
     "data": {
      "image/png": "[encoded data removed]",
      "text/plain": [
       "<matplotlib.figure.Figure at 0x109f6edd8>"
      ]
     },
     "metadata": {},
     "output_type": "display_data"
    }
   ],
   "source": [
    "from matplotlib_venn import venn3\n",
    "\n",
    "venn3(subsets = (1, 1, 1, 2, 1, 2, 2), set_labels = ('Set1', 'Set2', 'Set3'))"
   ]
  },
  {
   "cell_type": "code",
   "execution_count": 75,
   "metadata": {},
   "outputs": [
    {
     "data": {
      "image/png": "[encoded data removed]",
      "text/plain": [
       "<matplotlib.figure.Figure at 0x10a2fd240>"
      ]
     },
     "metadata": {},
     "output_type": "display_data"
    }
   ],
   "source": [
    "v = venn3([set(['A', 'B', 'C', 'D']), set(['D', 'E', 'F']), set(['A','Z']) ])\n",
    "#v.get_patch_by_id('10').set_color('none')\n"
   ]
  },
  {
   "cell_type": "code",
   "execution_count": 144,
   "metadata": {},
   "outputs": [
    {
     "data": {
      "image/png": "[encoded data removed]",
      "text/plain": [
       "<matplotlib.figure.Figure at 0x10acade48>"
      ]
     },
     "metadata": {},
     "output_type": "display_data"
    }
   ],
   "source": [
    "v = venn3(subsets=[set(['A', 'B', 'C', 'D']), set(['D', 'E', 'F']), set(['A','Z']) ], set_labels=(\"\",\"\",\"\"))\n",
    "v.get_patch_by_id('001').set_color('blue')\n",
    "v.get_patch_by_id('001').set_edgecolor('none')\n",
    "\n",
    "\n",
    "v.get_patch_by_id('010').set_color('none')\n",
    "v.get_patch_by_id('100').set_color('none')\n",
    "v.get_patch_by_id('110').set_color('none')\n",
    "\n",
    "v.get_patch_by_id('101').set_color('blue')\n",
    "v.get_patch_by_id('101').set_edgecolor('none')\n",
    "\n",
    "\n",
    "\n",
    "#v.get_label_by_id(\"101\").set_text('')\n",
    "v.get_label_by_id('001').set_text('')\n",
    "v.get_label_by_id('010').set_text('')\n",
    "v.get_label_by_id('100').set_text('')\n",
    "v.get_label_by_id('110').set_text('')\n",
    "v.get_label_by_id('101').set_text('')\n",
    "\n",
    "\n",
    "v.get_patch_by_id('101').set_label('fd')\n",
    "\n",
    "#v.get_title_by_id('101')\n",
    "\n",
    "\n",
    "\n",
    "\n",
    "\n"
   ]
  },
  {
   "cell_type": "code",
   "execution_count": 125,
   "metadata": {},
   "outputs": [
    {
     "data": {
      "image/png": "[encoded data removed]",
      "text/plain": [
       "<matplotlib.figure.Figure at 0x10ad75908>"
      ]
     },
     "metadata": {},
     "output_type": "display_data"
    }
   ],
   "source": [
    "import pylab as plt\n",
    "from matplotlib_venn import venn3, venn3_circles\n",
    "\n",
    "v = venn3(subsets=(1,1,0,1,0,0,0))\n",
    "v.get_label_by_id('100').set_text('First')\n",
    "v.get_label_by_id('010').set_text('Second')\n",
    "v.get_label_by_id('001').set_text('Third')\n",
    "plt.title(\"Not a Venn diagram\")\n",
    "plt.show()"
   ]
  },
  {
   "cell_type": "markdown",
   "metadata": {},
   "source": [
    "see this venn diagram for probabilities.\n",
    "\n",
    "http://nbviewer.jupyter.org/url/drsfenner.org/public/notebooks/GrayedVennDiagram.ipynb\n"
   ]
  },
  {
   "cell_type": "markdown",
   "metadata": {},
   "source": [
    "<img src=\"../../../Screenshots/Screenshot 2017-09-19 00.50.01.png\" style=\"width:400px;\" alt=\"Figure 1-1\"/>\n"
   ]
  }
 ],
 "metadata": {
  "kernelspec": {
   "display_name": "Python 3",
   "language": "python",
   "name": "python3"
  },
  "language_info": {
   "codemirror_mode": {
    "name": "ipython",
    "version": 3
   },
   "file_extension": ".py",
   "mimetype": "text/x-python",
   "name": "python",
   "nbconvert_exporter": "python",
   "pygments_lexer": "ipython3",
   "version": "3.6.1"
  }
 },
 "nbformat": 4,
 "nbformat_minor": 2
}
